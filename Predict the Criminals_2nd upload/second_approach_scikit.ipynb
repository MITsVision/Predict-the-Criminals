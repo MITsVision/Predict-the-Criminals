{
 "cells": [
  {
   "cell_type": "code",
   "execution_count": 37,
   "metadata": {
    "collapsed": true
   },
   "outputs": [],
   "source": [
    "import pandas as pd\n",
    "import numpy as np\n",
    "import scipy as sc\n",
    "import sklearn as skl\n",
    "import matplotlib\n",
    "import matplotlib.pyplot as plt\n",
    "import seaborn as sns\n",
    "%matplotlib inline"
   ]
  },
  {
   "cell_type": "code",
   "execution_count": 38,
   "metadata": {
    "collapsed": true
   },
   "outputs": [],
   "source": [
    "train = pd.read_csv(\"./data/criminal_train.csv\")"
   ]
  },
  {
   "cell_type": "code",
   "execution_count": 39,
   "metadata": {
    "collapsed": true
   },
   "outputs": [],
   "source": [
    "header = list(train)\n",
    "feature_col = header[0:len(header)-1]"
   ]
  },
  {
   "cell_type": "code",
   "execution_count": 40,
   "metadata": {
    "collapsed": true
   },
   "outputs": [],
   "source": [
    "X = train[feature_col]\n",
    "y = train['Criminal']"
   ]
  },
  {
   "cell_type": "code",
   "execution_count": 47,
   "metadata": {},
   "outputs": [],
   "source": [
    "from sklearn import metrics\n",
    "from sklearn.linear_model import LogisticRegression\n",
    "from sklearn.cross_validation import train_test_split\n",
    "y = train['Criminal']\n",
    "score = []\n",
    "elem = []\n",
    "for one in header:\n",
    "    X_new = X[X.columns.difference([one])]\n",
    "    X_train, X_test, y_train, y_test = train_test_split(X_new, y, test_size=0.4, random_state=4)\n",
    "    logReg = LogisticRegression()\n",
    "    logReg.fit(X_train,y_train)\n",
    "    y_pred = logReg.predict(X_test)\n",
    "    score.append(metrics.accuracy_score(y_test,y_pred))\n",
    "    elem.append(one)\n",
    "result = zip(score,elem)"
   ]
  },
  {
   "cell_type": "code",
   "execution_count": 58,
   "metadata": {},
   "outputs": [],
   "source": [
    "# print result and see the difference"
   ]
  },
  {
   "cell_type": "code",
   "execution_count": 64,
   "metadata": {},
   "outputs": [],
   "source": [
    "#traing on full data\n",
    "X_new = X[X.columns.difference(['PERID'])]\n",
    "test = pd.read_csv(\"./data/criminal_test.csv\")\n",
    "test_new = test[test.columns.difference(['PERID'])]\n",
    "logReg = LogisticRegression()\n",
    "logReg.fit(X_new,y)\n",
    "y_pred = logReg.predict(test_new)"
   ]
  },
  {
   "cell_type": "code",
   "execution_count": 66,
   "metadata": {},
   "outputs": [],
   "source": [
    "mydf = list(zip(test['PERID'],y_pred))\n",
    "mydf = pd.DataFrame(data=mydf,columns=['PERID','Criminal'])\n",
    "mydf.to_csv('./data/sample_submission2.csv',index=False)"
   ]
  },
  {
   "cell_type": "code",
   "execution_count": null,
   "metadata": {
    "collapsed": true
   },
   "outputs": [],
   "source": []
  }
 ],
 "metadata": {
  "kernelspec": {
   "display_name": "Python 3",
   "language": "python",
   "name": "python3"
  },
  "language_info": {
   "codemirror_mode": {
    "name": "ipython",
    "version": 3
   },
   "file_extension": ".py",
   "mimetype": "text/x-python",
   "name": "python",
   "nbconvert_exporter": "python",
   "pygments_lexer": "ipython3",
   "version": "3.6.3"
  }
 },
 "nbformat": 4,
 "nbformat_minor": 2
}
