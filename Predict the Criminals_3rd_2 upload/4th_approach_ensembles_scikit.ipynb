{
 "cells": [
  {
   "cell_type": "code",
   "execution_count": 1,
   "metadata": {
    "collapsed": true
   },
   "outputs": [],
   "source": [
    "import pandas as pd\n",
    "import numpy as np\n",
    "import scipy as sc\n",
    "import sklearn as skl\n",
    "import matplotlib\n",
    "import matplotlib.pyplot as plt\n",
    "import seaborn as sns\n",
    "%matplotlib inline"
   ]
  },
  {
   "cell_type": "code",
   "execution_count": 2,
   "metadata": {
    "collapsed": true
   },
   "outputs": [],
   "source": [
    "train = pd.read_csv(\"./data/criminal_train.csv\")"
   ]
  },
  {
   "cell_type": "code",
   "execution_count": 3,
   "metadata": {
    "collapsed": true
   },
   "outputs": [],
   "source": [
    "header = list(train)\n",
    "feature_col = header[0:len(header)-1]"
   ]
  },
  {
   "cell_type": "code",
   "execution_count": 4,
   "metadata": {},
   "outputs": [
    {
     "name": "stderr",
     "output_type": "stream",
     "text": [
      "C:\\Users\\I341584\\Continuum\\Anaconda3\\lib\\site-packages\\sklearn\\cross_validation.py:41: DeprecationWarning: This module was deprecated in version 0.18 in favor of the model_selection module into which all the refactored classes and functions are moved. Also note that the interface of the new CV iterators are different from that of this module. This module will be removed in 0.20.\n",
      "  \"This module will be removed in 0.20.\", DeprecationWarning)\n"
     ]
    }
   ],
   "source": [
    "X = train[feature_col]\n",
    "y = train['Criminal']\n",
    "from sklearn.cross_validation import train_test_split\n",
    "X_train, X_test, y_train, y_test = train_test_split(X, y, test_size=0.4, random_state=4)"
   ]
  },
  {
   "cell_type": "code",
   "execution_count": 5,
   "metadata": {},
   "outputs": [
    {
     "name": "stdout",
     "output_type": "stream",
     "text": [
      "0.94739720035\n"
     ]
    }
   ],
   "source": [
    "from sklearn.ensemble import RandomForestClassifier\n",
    "from sklearn import metrics\n",
    "clf = RandomForestClassifier(n_estimators=10)\n",
    "clf = clf.fit(X_train, y_train) \n",
    "y_pred = clf.predict(X_test)\n",
    "print(metrics.accuracy_score(y_test,y_pred))"
   ]
  },
  {
   "cell_type": "markdown",
   "metadata": {
    "collapsed": true
   },
   "source": [
    "### trying different features"
   ]
  },
  {
   "cell_type": "code",
   "execution_count": 54,
   "metadata": {
    "collapsed": true
   },
   "outputs": [],
   "source": [
    "from sklearn.cross_validation import train_test_split\n",
    "from sklearn.ensemble import RandomForestClassifier\n",
    "score = []\n",
    "elem = []\n",
    "for one in header:\n",
    "    X_new = X[X.columns.difference([one])]\n",
    "    X_train, X_test, y_train, y_test = train_test_split(X_new, y, test_size=0.4, random_state=4)\n",
    "    clf = RandomForestClassifier(n_estimators=10)\n",
    "    clf = clf.fit(X_train, y_train) \n",
    "    y_pred = clf.predict(X_test)\n",
    "    score.append(metrics.accuracy_score(y_test,y_pred))\n",
    "    elem.append(one)\n",
    "result = zip(score,elem)"
   ]
  },
  {
   "cell_type": "code",
   "execution_count": 55,
   "metadata": {},
   "outputs": [
    {
     "name": "stdout",
     "output_type": "stream",
     "text": [
      "0.948326771654\n"
     ]
    }
   ],
   "source": [
    "print(max(score))"
   ]
  },
  {
   "cell_type": "markdown",
   "metadata": {},
   "source": [
    "### data cleaning"
   ]
  },
  {
   "cell_type": "code",
   "execution_count": 16,
   "metadata": {},
   "outputs": [],
   "source": [
    "for column in train:\n",
    "    if(column != 'PERID'):\n",
    "        df_temp = train[column]\n",
    "        replace_val = df_temp.value_counts().idxmax()\n",
    "        #print(replace_val)\n",
    "        for data in range(len(df_temp)):\n",
    "            if(df_temp[data] == -1):\n",
    "                df_temp[data] = replace_val\n",
    "            "
   ]
  },
  {
   "cell_type": "code",
   "execution_count": 17,
   "metadata": {},
   "outputs": [
    {
     "data": {
      "text/plain": [
       "1"
      ]
     },
     "execution_count": 17,
     "metadata": {},
     "output_type": "execute_result"
    }
   ],
   "source": [
    "train['IIHH65_2'].value_counts().idxmax() # key for max count value"
   ]
  },
  {
   "cell_type": "code",
   "execution_count": 18,
   "metadata": {
    "collapsed": true
   },
   "outputs": [],
   "source": [
    "X = train[feature_col]\n",
    "y = train['Criminal']\n",
    "from sklearn.cross_validation import train_test_split\n",
    "X_train, X_test, y_train, y_test = train_test_split(X, y, test_size=0.4, random_state=4)\n",
    "\n",
    "from sklearn.cross_validation import train_test_split\n",
    "from sklearn.ensemble import RandomForestClassifier\n",
    "score = []\n",
    "elem = []\n",
    "for one in header:\n",
    "    X_new = X[X.columns.difference([one])]\n",
    "    X_train, X_test, y_train, y_test = train_test_split(X_new, y, test_size=0.4, random_state=4)\n",
    "    clf = RandomForestClassifier(n_estimators=10)\n",
    "    clf = clf.fit(X_train, y_train) \n",
    "    y_pred = clf.predict(X_test)\n",
    "    score.append(metrics.accuracy_score(y_test,y_pred))\n",
    "    elem.append(one)\n",
    "result = zip(score,elem)"
   ]
  },
  {
   "cell_type": "code",
   "execution_count": 19,
   "metadata": {},
   "outputs": [
    {
     "name": "stdout",
     "output_type": "stream",
     "text": [
      "0.948545494313\n"
     ]
    }
   ],
   "source": [
    "print(max(score))"
   ]
  },
  {
   "cell_type": "code",
   "execution_count": 20,
   "metadata": {},
   "outputs": [
    {
     "name": "stdout",
     "output_type": "stream",
     "text": [
      "(0.94613954505686793, 'PERID')\n",
      "(0.94362423447069121, 'IFATHER')\n",
      "(0.94570209973753283, 'NRCH17_2')\n",
      "(0.9457567804024497, 'IRHHSIZ2')\n",
      "(0.94373359580052496, 'IIHHSIZ2')\n",
      "(0.94564741907261596, 'IRKI17_2')\n",
      "(0.94559273840769908, 'IIKI17_2')\n",
      "(0.9459755030621172, 'IRHH65_2')\n",
      "(0.94624890638670167, 'IIHH65_2')\n",
      "(0.94788932633420819, 'PRXRETRY')\n",
      "(0.94712379702537186, 'PRXYDATA')\n",
      "(0.94318678915135612, 'MEDICARE')\n",
      "(0.94657699037620302, 'CAIDCHIP')\n",
      "(0.94499125109361326, 'CHAMPUS')\n",
      "(0.94603018372703407, 'PRVHLTIN')\n",
      "(0.94335083114610674, 'GRPHLTIN')\n",
      "(0.9461942257217848, 'HLTINNOS')\n",
      "(0.94739720034995623, 'HLCNOTYR')\n",
      "(0.94668635170603677, 'HLCNOTMO')\n",
      "(0.94717847769028873, 'HLCLAST')\n",
      "(0.94706911636045499, 'HLLOSRSN')\n",
      "(0.94351487314085736, 'HLNVCOST')\n",
      "(0.94630358705161854, 'HLNVOFFR')\n",
      "(0.947014435695538, 'HLNVREF')\n",
      "(0.94843613298337703, 'HLNVNEED')\n",
      "(0.94750656167978997, 'HLNVSOR')\n",
      "(0.94652230971128604, 'IRMCDCHP')\n",
      "(0.94581146106736658, 'IIMCDCHP')\n",
      "(0.94603018372703407, 'IRMEDICR')\n",
      "(0.94646762904636916, 'IIMEDICR')\n",
      "(0.94537401574803148, 'IRCHMPUS')\n",
      "(0.9476706036745407, 'IICHMPUS')\n",
      "(0.94564741907261596, 'IRPRVHLT')\n",
      "(0.94542869641294836, 'IIPRVHLT')\n",
      "(0.94728783902012248, 'IROTHHLT')\n",
      "(0.94613954505686793, 'IIOTHHLT')\n",
      "(0.94510061242344712, 'HLCALLFG')\n",
      "(0.94608486439195105, 'HLCALL99')\n",
      "(0.94706911636045499, 'ANYHLTI2')\n",
      "(0.94624890638670167, 'IRINSUR4')\n",
      "(0.94739720034995623, 'IIINSUR4')\n",
      "(0.94477252843394577, 'OTHINS')\n",
      "(0.94717847769028873, 'CELLNOTCL')\n",
      "(0.94630358705161854, 'CELLWRKNG')\n",
      "(0.94477252843394577, 'IRFAMSOC')\n",
      "(0.94559273840769908, 'IIFAMSOC')\n",
      "(0.94717847769028873, 'IRFAMSSI')\n",
      "(0.94559273840769908, 'IIFAMSSI')\n",
      "(0.9474518810148731, 'IRFSTAMP')\n",
      "(0.94739720034995623, 'IIFSTAMP')\n",
      "(0.94761592300962383, 'IRFAMPMT')\n",
      "(0.94603018372703407, 'IIFAMPMT')\n",
      "(0.94657699037620302, 'IRFAMSVC')\n",
      "(0.94657699037620302, 'IIFAMSVC')\n",
      "(0.94367891513560809, 'IRWELMOS')\n",
      "(0.94663167104111989, 'IIWELMOS')\n",
      "(0.94520997375328086, 'IRPINC3')\n",
      "(0.93952318460192474, 'IRFAMIN3')\n",
      "(0.94728783902012248, 'IIPINC3')\n",
      "(0.94652230971128604, 'IIFAMIN3')\n",
      "(0.94635826771653542, 'GOVTPROG')\n",
      "(0.94652230971128604, 'POVERTY3')\n",
      "(0.94783464566929132, 'TOOLONG')\n",
      "(0.94679571303587051, 'TROUBUND')\n",
      "(0.94624890638670167, 'PDEN10')\n",
      "(0.9457567804024497, 'COUTYP2')\n",
      "(0.94613954505686793, 'MAIIN102')\n",
      "(0.94832677165354329, 'AIIND102')\n",
      "(0.94695975503062113, 'ANALWT_C')\n",
      "(0.94564741907261596, 'VESTR')\n",
      "(0.94581146106736658, 'VEREP')\n",
      "(0.94854549431321089, 'Criminal')\n"
     ]
    }
   ],
   "source": [
    "for me in result:\n",
    "    print(me)   # find feature coresponding to max accuracy"
   ]
  },
  {
   "cell_type": "code",
   "execution_count": 30,
   "metadata": {},
   "outputs": [
    {
     "name": "stdout",
     "output_type": "stream",
     "text": [
      "0.948162729659\n"
     ]
    }
   ],
   "source": [
    "#suspect \"IRMCDCHP\"\n",
    "X = train[feature_col]\n",
    "y = train['Criminal']\n",
    "X = X[X.columns.difference(['PRVHLTIN'])]\n",
    "from sklearn.cross_validation import train_test_split\n",
    "X_train, X_test, y_train, y_test = train_test_split(X, y, test_size=0.4, random_state=4)\n",
    "clf = RandomForestClassifier(n_estimators=10)\n",
    "clf = clf.fit(X_train, y_train) \n",
    "y_pred = clf.predict(X_test)\n",
    "print(metrics.accuracy_score(y_test,y_pred))"
   ]
  },
  {
   "cell_type": "code",
   "execution_count": 32,
   "metadata": {},
   "outputs": [],
   "source": [
    "#Final submission train\n",
    "X_new = X[X.columns.difference(['PRVHLTIN'])]\n",
    "test = pd.read_csv(\"./data/criminal_test.csv\")\n",
    "test_new = test[test.columns.difference(['PRVHLTIN'])]\n",
    "clf = RandomForestClassifier(n_estimators=10)\n",
    "clf = clf.fit(X_train, y_train) \n",
    "y_pred = clf.predict(X_test)\n",
    "mydf = list(zip(test['PERID'],y_pred))\n",
    "mydf = pd.DataFrame(data=mydf,columns=['PERID','Criminal'])\n",
    "mydf.to_csv('./data/sample_submission3.csv',index=False)"
   ]
  },
  {
   "cell_type": "code",
   "execution_count": null,
   "metadata": {
    "collapsed": true
   },
   "outputs": [],
   "source": []
  }
 ],
 "metadata": {
  "kernelspec": {
   "display_name": "Python 3",
   "language": "python",
   "name": "python3"
  },
  "language_info": {
   "codemirror_mode": {
    "name": "ipython",
    "version": 3
   },
   "file_extension": ".py",
   "mimetype": "text/x-python",
   "name": "python",
   "nbconvert_exporter": "python",
   "pygments_lexer": "ipython3",
   "version": "3.6.3"
  }
 },
 "nbformat": 4,
 "nbformat_minor": 2
}
