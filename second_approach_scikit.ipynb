{
 "cells": [
  {
   "cell_type": "code",
   "execution_count": 1,
   "metadata": {
    "collapsed": true
   },
   "outputs": [],
   "source": [
    "import pandas as pd\n",
    "import numpy as np\n",
    "import scipy as sc\n",
    "import sklearn as skl\n",
    "import matplotlib\n",
    "import matplotlib.pyplot as plt\n",
    "import seaborn as sns\n",
    "%matplotlib inline"
   ]
  },
  {
   "cell_type": "code",
   "execution_count": 2,
   "metadata": {
    "collapsed": true
   },
   "outputs": [],
   "source": [
    "train = pd.read_csv(\"./data/criminal_train.csv\")"
   ]
  },
  {
   "cell_type": "code",
   "execution_count": 3,
   "metadata": {
    "collapsed": true
   },
   "outputs": [],
   "source": [
    "header = list(train)\n",
    "feature_col = header[0:len(header)-1]"
   ]
  },
  {
   "cell_type": "code",
   "execution_count": 4,
   "metadata": {
    "collapsed": true
   },
   "outputs": [],
   "source": [
    "X = train[feature_col]\n",
    "y = train['Criminal']"
   ]
  },
  {
   "cell_type": "code",
   "execution_count": 5,
   "metadata": {},
   "outputs": [
    {
     "data": {
      "text/plain": [
       "['PERID',\n",
       " 'IFATHER',\n",
       " 'NRCH17_2',\n",
       " 'IRHHSIZ2',\n",
       " 'IIHHSIZ2',\n",
       " 'IRKI17_2',\n",
       " 'IIKI17_2',\n",
       " 'IRHH65_2',\n",
       " 'IIHH65_2',\n",
       " 'PRXRETRY',\n",
       " 'PRXYDATA',\n",
       " 'MEDICARE',\n",
       " 'CAIDCHIP',\n",
       " 'CHAMPUS',\n",
       " 'PRVHLTIN',\n",
       " 'GRPHLTIN',\n",
       " 'HLTINNOS',\n",
       " 'HLCNOTYR',\n",
       " 'HLCNOTMO',\n",
       " 'HLCLAST',\n",
       " 'HLLOSRSN',\n",
       " 'HLNVCOST',\n",
       " 'HLNVOFFR',\n",
       " 'HLNVREF',\n",
       " 'HLNVNEED',\n",
       " 'HLNVSOR',\n",
       " 'IRMCDCHP',\n",
       " 'IIMCDCHP',\n",
       " 'IRMEDICR',\n",
       " 'IIMEDICR',\n",
       " 'IRCHMPUS',\n",
       " 'IICHMPUS',\n",
       " 'IRPRVHLT',\n",
       " 'IIPRVHLT',\n",
       " 'IROTHHLT',\n",
       " 'IIOTHHLT',\n",
       " 'HLCALLFG',\n",
       " 'HLCALL99',\n",
       " 'ANYHLTI2',\n",
       " 'IRINSUR4',\n",
       " 'IIINSUR4',\n",
       " 'OTHINS',\n",
       " 'CELLNOTCL',\n",
       " 'CELLWRKNG',\n",
       " 'IRFAMSOC',\n",
       " 'IIFAMSOC',\n",
       " 'IRFAMSSI',\n",
       " 'IIFAMSSI',\n",
       " 'IRFSTAMP',\n",
       " 'IIFSTAMP',\n",
       " 'IRFAMPMT',\n",
       " 'IIFAMPMT',\n",
       " 'IRFAMSVC',\n",
       " 'IIFAMSVC',\n",
       " 'IRWELMOS',\n",
       " 'IIWELMOS',\n",
       " 'IRPINC3',\n",
       " 'IRFAMIN3',\n",
       " 'IIPINC3',\n",
       " 'IIFAMIN3',\n",
       " 'GOVTPROG',\n",
       " 'POVERTY3',\n",
       " 'TOOLONG',\n",
       " 'TROUBUND',\n",
       " 'PDEN10',\n",
       " 'COUTYP2',\n",
       " 'MAIIN102',\n",
       " 'AIIND102',\n",
       " 'ANALWT_C',\n",
       " 'VESTR',\n",
       " 'VEREP',\n",
       " 'Criminal']"
      ]
     },
     "execution_count": 5,
     "metadata": {},
     "output_type": "execute_result"
    }
   ],
   "source": [
    "list(train)"
   ]
  },
  {
   "cell_type": "code",
   "execution_count": 8,
   "metadata": {},
   "outputs": [
    {
     "data": {
      "text/plain": [
       "[<matplotlib.lines.Line2D at 0x28214cb0f28>]"
      ]
     },
     "execution_count": 8,
     "metadata": {},
     "output_type": "execute_result"
    },
    {
     "data": {
      "image/png": "[encoded data removed]",
      "text/plain": [
       "<matplotlib.figure.Figure at 0x2820cf32e80>"
      ]
     },
     "metadata": {},
     "output_type": "display_data"
    }
   ],
   "source": [
    "plt.plot(train[header[1]],y)"
   ]
  },
  {
   "cell_type": "code",
   "execution_count": 6,
   "metadata": {},
   "outputs": [
    {
     "data": {
      "text/plain": [
       "'PERID'"
      ]
     },
     "execution_count": 6,
     "metadata": {},
     "output_type": "execute_result"
    }
   ],
   "source": [
    "header[0]"
   ]
  },
  {
   "cell_type": "code",
   "execution_count": null,
   "metadata": {
    "collapsed": true
   },
   "outputs": [],
   "source": []
  }
 ],
 "metadata": {
  "kernelspec": {
   "display_name": "Python 3",
   "language": "python",
   "name": "python3"
  },
  "language_info": {
   "codemirror_mode": {
    "name": "ipython",
    "version": 3
   },
   "file_extension": ".py",
   "mimetype": "text/x-python",
   "name": "python",
   "nbconvert_exporter": "python",
   "pygments_lexer": "ipython3",
   "version": "3.6.3"
  }
 },
 "nbformat": 4,
 "nbformat_minor": 2
}
